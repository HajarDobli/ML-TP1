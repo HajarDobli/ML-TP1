{
 "cells": [
  {
   "cell_type": "code",
   "execution_count": 1,
   "id": "14cbae13",
   "metadata": {},
   "outputs": [
    {
     "name": "stdout",
     "output_type": "stream",
     "text": [
      "Requirement already satisfied: gensim in c:\\users\\dell\\anaconda3\\lib\\site-packages (4.3.0)Note: you may need to restart the kernel to use updated packages.\n",
      "\n",
      "Requirement already satisfied: numpy>=1.18.5 in c:\\users\\dell\\anaconda3\\lib\\site-packages (from gensim) (1.24.3)\n",
      "Requirement already satisfied: scipy>=1.7.0 in c:\\users\\dell\\anaconda3\\lib\\site-packages (from gensim) (1.11.1)\n",
      "Requirement already satisfied: smart-open>=1.8.1 in c:\\users\\dell\\anaconda3\\lib\\site-packages (from gensim) (5.2.1)\n",
      "Collecting FuzzyTM>=0.4.0 (from gensim)\n",
      "  Obtaining dependency information for FuzzyTM>=0.4.0 from https://files.pythonhosted.org/packages/06/4d/8d2dd5d81afdea2aa790860d5c7e12f80154923ba827e3fa36759f0bf2cd/FuzzyTM-2.0.5-py3-none-any.whl.metadata\n",
      "  Downloading FuzzyTM-2.0.5-py3-none-any.whl.metadata (7.8 kB)\n",
      "Requirement already satisfied: pandas in c:\\users\\dell\\anaconda3\\lib\\site-packages (from FuzzyTM>=0.4.0->gensim) (2.0.3)\n",
      "Collecting pyfume (from FuzzyTM>=0.4.0->gensim)\n",
      "  Obtaining dependency information for pyfume from https://files.pythonhosted.org/packages/f0/fe/b899a3d9a18c9a44a35155c79a4c152cb85990ea38ce6ab7ed73e5caa1b9/pyFUME-0.3.1-py3-none-any.whl.metadata\n",
      "  Downloading pyFUME-0.3.1-py3-none-any.whl.metadata (9.7 kB)\n",
      "Requirement already satisfied: python-dateutil>=2.8.2 in c:\\users\\dell\\anaconda3\\lib\\site-packages (from pandas->FuzzyTM>=0.4.0->gensim) (2.8.2)\n",
      "Requirement already satisfied: pytz>=2020.1 in c:\\users\\dell\\anaconda3\\lib\\site-packages (from pandas->FuzzyTM>=0.4.0->gensim) (2023.3.post1)\n",
      "Requirement already satisfied: tzdata>=2022.1 in c:\\users\\dell\\anaconda3\\lib\\site-packages (from pandas->FuzzyTM>=0.4.0->gensim) (2023.3)\n",
      "Collecting simpful (from pyfume->FuzzyTM>=0.4.0->gensim)\n",
      "  Obtaining dependency information for simpful from https://files.pythonhosted.org/packages/9d/0e/aebc2fb0b0f481994179b2ee2b8e6bbf0894d971594688c018375e7076ea/simpful-2.12.0-py3-none-any.whl.metadata\n",
      "  Downloading simpful-2.12.0-py3-none-any.whl.metadata (4.8 kB)\n",
      "Collecting fst-pso (from pyfume->FuzzyTM>=0.4.0->gensim)\n",
      "  Downloading fst-pso-1.8.1.tar.gz (18 kB)\n",
      "  Preparing metadata (setup.py): started\n",
      "  Preparing metadata (setup.py): finished with status 'done'\n",
      "Requirement already satisfied: typing-extensions in c:\\users\\dell\\anaconda3\\lib\\site-packages (from pyfume->FuzzyTM>=0.4.0->gensim) (4.7.1)\n",
      "Requirement already satisfied: six>=1.5 in c:\\users\\dell\\anaconda3\\lib\\site-packages (from python-dateutil>=2.8.2->pandas->FuzzyTM>=0.4.0->gensim) (1.16.0)\n",
      "Collecting miniful (from fst-pso->pyfume->FuzzyTM>=0.4.0->gensim)\n",
      "  Downloading miniful-0.0.6.tar.gz (2.8 kB)\n",
      "  Preparing metadata (setup.py): started\n",
      "  Preparing metadata (setup.py): finished with status 'done'\n",
      "Downloading FuzzyTM-2.0.5-py3-none-any.whl (29 kB)\n",
      "Downloading pyFUME-0.3.1-py3-none-any.whl (59 kB)\n",
      "   ---------------------------------------- 0.0/59.6 kB ? eta -:--:--\n",
      "   ---------------------------------- ----- 51.2/59.6 kB 1.3 MB/s eta 0:00:01\n",
      "   ---------------------------------------- 59.6/59.6 kB 1.0 MB/s eta 0:00:00\n",
      "Downloading simpful-2.12.0-py3-none-any.whl (24 kB)\n",
      "Building wheels for collected packages: fst-pso, miniful\n",
      "  Building wheel for fst-pso (setup.py): started\n",
      "  Building wheel for fst-pso (setup.py): finished with status 'done'\n",
      "  Created wheel for fst-pso: filename=fst_pso-1.8.1-py3-none-any.whl size=20448 sha256=5dc9deca65f064f32f7dbbb01d35b77d2c2a61506e755f2d847dccec5632da68\n",
      "  Stored in directory: c:\\users\\dell\\appdata\\local\\pip\\cache\\wheels\\69\\f5\\e5\\18ad53fe1ed6b2af9fad05ec052e4acbac8e92441df44bad2e\n",
      "  Building wheel for miniful (setup.py): started\n",
      "  Building wheel for miniful (setup.py): finished with status 'done'\n",
      "  Created wheel for miniful: filename=miniful-0.0.6-py3-none-any.whl size=3522 sha256=2f42c05d38cfcfcbd450200cba906b963049df37aa1227bb6f6fbec02cd42ae1\n",
      "  Stored in directory: c:\\users\\dell\\appdata\\local\\pip\\cache\\wheels\\9d\\ff\\2f\\afe4cd56f47de147407705626517d68bea0f3b74eb1fb168e6\n",
      "Successfully built fst-pso miniful\n",
      "Installing collected packages: simpful, miniful, fst-pso, pyfume, FuzzyTM\n",
      "Successfully installed FuzzyTM-2.0.5 fst-pso-1.8.1 miniful-0.0.6 pyfume-0.3.1 simpful-2.12.0\n"
     ]
    }
   ],
   "source": [
    "pip install gensim\n"
   ]
  },
  {
   "cell_type": "code",
   "execution_count": 8,
   "id": "3c24653a",
   "metadata": {},
   "outputs": [],
   "source": [
    "from gensim.models import Word2Vec\n",
    "from gensim.models.word2vec import LineSentence\n",
    "\n",
    "text_file_path = \"text\"\n",
    "\n",
    "sentences = LineSentence(text_file_path)\n",
    "\n",
    "model = Word2Vec(sentences, vector_size=100, window=5, min_count=1, workers=4)\n"
   ]
  },
  {
   "cell_type": "code",
   "execution_count": 10,
   "id": "3c1f3243",
   "metadata": {},
   "outputs": [
    {
     "name": "stdout",
     "output_type": "stream",
     "text": [
      "Représentation vectorielle du mot 'Medina': [ 8.8168029e-03  3.1574965e-03 -5.0249929e-04 -4.1811056e-03\n",
      "  7.2795441e-03 -6.0232244e-03  8.3046062e-03  1.2265438e-03\n",
      " -2.5589925e-03  8.6484449e-03  2.3319444e-03  8.6588981e-03\n",
      " -1.2420481e-03  4.2836182e-03 -7.0334743e-03  4.9219937e-03\n",
      " -4.3764976e-03 -4.8373183e-03 -6.0442011e-03 -2.4523188e-03\n",
      "  2.9074834e-04  6.4262026e-04  6.9488320e-03  1.7537015e-03\n",
      "  9.2937995e-04 -2.3760926e-03  7.7188946e-03 -3.8342485e-03\n",
      "  4.7200718e-03 -5.2717347e-03  2.0261689e-03  3.9439895e-03\n",
      " -6.2025730e-03 -1.9227656e-03 -3.8898055e-04  7.9032071e-03\n",
      " -9.5003238e-03 -6.2980736e-03  7.4881921e-03 -7.8161415e-03\n",
      "  3.8775255e-03  6.5589664e-03 -3.4038490e-04 -6.0610767e-03\n",
      "  8.7492345e-03  1.0785122e-03  4.2861789e-03  8.5942931e-03\n",
      "  8.2139475e-03  1.4170969e-03  5.1883641e-03 -9.3201390e-03\n",
      " -8.3151489e-04  6.3433307e-03  3.4436872e-03  6.0017770e-03\n",
      "  3.6260583e-03 -2.8932109e-03  3.3884775e-03  9.2311986e-03\n",
      "  2.7071319e-03 -1.0369814e-05 -9.9087562e-03 -4.2852010e-03\n",
      " -6.3793320e-04  1.2590340e-03  8.9328000e-03 -9.1321003e-03\n",
      "  7.0476420e-03 -5.1601361e-03  8.7005207e-03  2.9517496e-03\n",
      "  4.0170462e-03 -2.5169342e-03  4.6600979e-03 -3.0350510e-03\n",
      " -8.6238841e-03 -7.9458300e-03  7.3347725e-03  1.1869306e-03\n",
      " -3.8395457e-03  9.1660591e-03  4.5822142e-03 -1.0903358e-03\n",
      "  3.3911178e-03  5.0895386e-03 -4.4071809e-03 -8.9255152e-03\n",
      "  9.5257191e-03  2.8058947e-03 -5.5647013e-04  4.8198183e-03\n",
      " -9.5532993e-03 -4.8867031e-03 -4.8388401e-03  8.0861151e-03\n",
      "  4.1956627e-03 -9.5638720e-04 -5.8876728e-03  9.1660786e-03]\n"
     ]
    }
   ],
   "source": [
    "#Extraaction de la représentation vectorielle d'un mot\n",
    "word_representation = model.wv['Medina']\n",
    "print(\"Représentation vectorielle du mot 'Medina':\", word_representation)"
   ]
  },
  {
   "cell_type": "code",
   "execution_count": 11,
   "id": "751a50b7",
   "metadata": {},
   "outputs": [
    {
     "name": "stdout",
     "output_type": "stream",
     "text": [
      "Similarité entre 'Marrakech' et 'Morocco': 0.13643037\n"
     ]
    }
   ],
   "source": [
    "#Calcule de la similarité entre deux mots\n",
    "similarity = model.wv.similarity('Marrakech', 'Morocco')\n",
    "print(\"Similarité entre 'Marrakech' et 'Morocco':\", similarity)"
   ]
  },
  {
   "cell_type": "code",
   "execution_count": 12,
   "id": "5f08231a",
   "metadata": {},
   "outputs": [
    {
     "name": "stdout",
     "output_type": "stream",
     "text": [
      "Mots contextuels pour 'Marrakech': [('Atlantic', 0.2313094288110733), ('Yves', 0.2247493416070938), ('new', 0.21001994609832764), ('flavors', 0.19912847876548767), ('charmers,', 0.19663558900356293)]\n"
     ]
    }
   ],
   "source": [
    "#Extraction  des mots contextuels pour un mot central donné\n",
    "similar_words = model.wv.most_similar('Marrakech', topn=5)\n",
    "print(\"Mots contextuels pour 'Marrakech':\", similar_words)"
   ]
  },
  {
   "cell_type": "code",
   "execution_count": null,
   "id": "491ae874",
   "metadata": {},
   "outputs": [],
   "source": []
  }
 ],
 "metadata": {
  "kernelspec": {
   "display_name": "Python 3 (ipykernel)",
   "language": "python",
   "name": "python3"
  },
  "language_info": {
   "codemirror_mode": {
    "name": "ipython",
    "version": 3
   },
   "file_extension": ".py",
   "mimetype": "text/x-python",
   "name": "python",
   "nbconvert_exporter": "python",
   "pygments_lexer": "ipython3",
   "version": "3.11.5"
  }
 },
 "nbformat": 4,
 "nbformat_minor": 5
}
